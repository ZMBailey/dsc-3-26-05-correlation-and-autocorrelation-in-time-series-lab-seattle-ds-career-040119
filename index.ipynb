{
 "cells": [
  {
   "cell_type": "markdown",
   "metadata": {},
   "source": [
    "# Correlation and Autocorrelation in Time Series - Lab"
   ]
  },
  {
   "cell_type": "markdown",
   "metadata": {},
   "source": [
    "## Introduction\n",
    "\n",
    "In this lab, You'll practice your knowledge on correlation, autocorrelation and the ACF and PACF."
   ]
  },
  {
   "cell_type": "markdown",
   "metadata": {},
   "source": [
    "## Objectives\n",
    "\n",
    "You will be able to:\n",
    "- Understand correlation in Time Series\n",
    "- Plot and discuss the autocorrelation function (ACF) for a time-series \n",
    "- Plot and discuss the partial autocorrelation function (PACF) for a time-series \n",
    "- Interpret ACF and PACF and Identify use cases both functions"
   ]
  },
  {
   "cell_type": "markdown",
   "metadata": {},
   "source": [
    "## The Exchange Rate Data"
   ]
  },
  {
   "cell_type": "markdown",
   "metadata": {},
   "source": [
    "We'll be looking at the exchange rates dataset again. First, import the necessary libraries for time series and plotting. Then import the data (in `exch_rates.csv`) and make sure it's set in the correct time series format with the `datetime` as the index."
   ]
  },
  {
   "cell_type": "code",
   "execution_count": 2,
   "metadata": {},
   "outputs": [],
   "source": [
    "import pandas as pd\n",
    "import numpy as np\n",
    "import matplotlib.pyplot as plt\n",
    "%matplotlib inline\n",
    "%config InlineBackend.figure_format = 'retina'"
   ]
  },
  {
   "cell_type": "code",
   "execution_count": 3,
   "metadata": {},
   "outputs": [
    {
     "data": {
      "text/html": [
       "<div>\n",
       "<style scoped>\n",
       "    .dataframe tbody tr th:only-of-type {\n",
       "        vertical-align: middle;\n",
       "    }\n",
       "\n",
       "    .dataframe tbody tr th {\n",
       "        vertical-align: top;\n",
       "    }\n",
       "\n",
       "    .dataframe thead th {\n",
       "        text-align: right;\n",
       "    }\n",
       "</style>\n",
       "<table border=\"1\" class=\"dataframe\">\n",
       "  <thead>\n",
       "    <tr style=\"text-align: right;\">\n",
       "      <th></th>\n",
       "      <th>Frequency</th>\n",
       "      <th>Euro</th>\n",
       "      <th>Australian Dollar</th>\n",
       "      <th>Danish Krone</th>\n",
       "    </tr>\n",
       "  </thead>\n",
       "  <tbody>\n",
       "    <tr>\n",
       "      <th>0</th>\n",
       "      <td>2000-01-01</td>\n",
       "      <td>NaN</td>\n",
       "      <td>NaN</td>\n",
       "      <td>NaN</td>\n",
       "    </tr>\n",
       "    <tr>\n",
       "      <th>1</th>\n",
       "      <td>2000-01-02</td>\n",
       "      <td>NaN</td>\n",
       "      <td>NaN</td>\n",
       "      <td>NaN</td>\n",
       "    </tr>\n",
       "    <tr>\n",
       "      <th>2</th>\n",
       "      <td>2000-01-03</td>\n",
       "      <td>0.991080</td>\n",
       "      <td>1.520912</td>\n",
       "      <td>7.374034</td>\n",
       "    </tr>\n",
       "    <tr>\n",
       "      <th>3</th>\n",
       "      <td>2000-01-04</td>\n",
       "      <td>0.970403</td>\n",
       "      <td>1.521300</td>\n",
       "      <td>7.222610</td>\n",
       "    </tr>\n",
       "    <tr>\n",
       "      <th>4</th>\n",
       "      <td>2000-01-05</td>\n",
       "      <td>0.964506</td>\n",
       "      <td>1.521316</td>\n",
       "      <td>7.180170</td>\n",
       "    </tr>\n",
       "  </tbody>\n",
       "</table>\n",
       "</div>"
      ],
      "text/plain": [
       "    Frequency      Euro  Australian Dollar  Danish Krone\n",
       "0  2000-01-01       NaN                NaN           NaN\n",
       "1  2000-01-02       NaN                NaN           NaN\n",
       "2  2000-01-03  0.991080           1.520912      7.374034\n",
       "3  2000-01-04  0.970403           1.521300      7.222610\n",
       "4  2000-01-05  0.964506           1.521316      7.180170"
      ]
     },
     "execution_count": 3,
     "metadata": {},
     "output_type": "execute_result"
    }
   ],
   "source": [
    "df = pd.read_csv('exch_rates.csv')\n",
    "df.head()"
   ]
  },
  {
   "cell_type": "markdown",
   "metadata": {},
   "source": [
    "Plot the three exchange rates in one plot"
   ]
  },
  {
   "cell_type": "code",
   "execution_count": 4,
   "metadata": {},
   "outputs": [
    {
     "data": {
      "text/html": [
       "<div>\n",
       "<style scoped>\n",
       "    .dataframe tbody tr th:only-of-type {\n",
       "        vertical-align: middle;\n",
       "    }\n",
       "\n",
       "    .dataframe tbody tr th {\n",
       "        vertical-align: top;\n",
       "    }\n",
       "\n",
       "    .dataframe thead th {\n",
       "        text-align: right;\n",
       "    }\n",
       "</style>\n",
       "<table border=\"1\" class=\"dataframe\">\n",
       "  <thead>\n",
       "    <tr style=\"text-align: right;\">\n",
       "      <th></th>\n",
       "      <th>Frequency</th>\n",
       "      <th>Euro</th>\n",
       "      <th>Australian Dollar</th>\n",
       "      <th>Danish Krone</th>\n",
       "    </tr>\n",
       "  </thead>\n",
       "  <tbody>\n",
       "    <tr>\n",
       "      <th>2</th>\n",
       "      <td>2000-01-03</td>\n",
       "      <td>0.991080</td>\n",
       "      <td>1.520912</td>\n",
       "      <td>7.374034</td>\n",
       "    </tr>\n",
       "    <tr>\n",
       "      <th>3</th>\n",
       "      <td>2000-01-04</td>\n",
       "      <td>0.970403</td>\n",
       "      <td>1.521300</td>\n",
       "      <td>7.222610</td>\n",
       "    </tr>\n",
       "    <tr>\n",
       "      <th>4</th>\n",
       "      <td>2000-01-05</td>\n",
       "      <td>0.964506</td>\n",
       "      <td>1.521316</td>\n",
       "      <td>7.180170</td>\n",
       "    </tr>\n",
       "    <tr>\n",
       "      <th>5</th>\n",
       "      <td>2000-01-06</td>\n",
       "      <td>0.962649</td>\n",
       "      <td>1.523681</td>\n",
       "      <td>7.166057</td>\n",
       "    </tr>\n",
       "    <tr>\n",
       "      <th>6</th>\n",
       "      <td>2000-01-07</td>\n",
       "      <td>0.972384</td>\n",
       "      <td>1.530338</td>\n",
       "      <td>7.238040</td>\n",
       "    </tr>\n",
       "    <tr>\n",
       "      <th>9</th>\n",
       "      <td>2000-01-10</td>\n",
       "      <td>0.977613</td>\n",
       "      <td>1.523805</td>\n",
       "      <td>7.278131</td>\n",
       "    </tr>\n",
       "    <tr>\n",
       "      <th>10</th>\n",
       "      <td>2000-01-11</td>\n",
       "      <td>0.975039</td>\n",
       "      <td>1.527301</td>\n",
       "      <td>7.258580</td>\n",
       "    </tr>\n",
       "    <tr>\n",
       "      <th>11</th>\n",
       "      <td>2000-01-12</td>\n",
       "      <td>0.970120</td>\n",
       "      <td>1.518529</td>\n",
       "      <td>7.222837</td>\n",
       "    </tr>\n",
       "    <tr>\n",
       "      <th>12</th>\n",
       "      <td>2000-01-13</td>\n",
       "      <td>0.973141</td>\n",
       "      <td>1.503503</td>\n",
       "      <td>7.245037</td>\n",
       "    </tr>\n",
       "    <tr>\n",
       "      <th>13</th>\n",
       "      <td>2000-01-14</td>\n",
       "      <td>0.977995</td>\n",
       "      <td>1.499462</td>\n",
       "      <td>7.281076</td>\n",
       "    </tr>\n",
       "    <tr>\n",
       "      <th>16</th>\n",
       "      <td>2000-01-17</td>\n",
       "      <td>0.990688</td>\n",
       "      <td>1.507034</td>\n",
       "      <td>7.373489</td>\n",
       "    </tr>\n",
       "    <tr>\n",
       "      <th>17</th>\n",
       "      <td>2000-01-18</td>\n",
       "      <td>0.990786</td>\n",
       "      <td>1.508174</td>\n",
       "      <td>7.375310</td>\n",
       "    </tr>\n",
       "    <tr>\n",
       "      <th>18</th>\n",
       "      <td>2000-01-19</td>\n",
       "      <td>0.989609</td>\n",
       "      <td>1.506383</td>\n",
       "      <td>7.366650</td>\n",
       "    </tr>\n",
       "    <tr>\n",
       "      <th>19</th>\n",
       "      <td>2000-01-20</td>\n",
       "      <td>0.991179</td>\n",
       "      <td>1.504807</td>\n",
       "      <td>7.379423</td>\n",
       "    </tr>\n",
       "    <tr>\n",
       "      <th>20</th>\n",
       "      <td>2000-01-21</td>\n",
       "      <td>0.990393</td>\n",
       "      <td>1.506883</td>\n",
       "      <td>7.373972</td>\n",
       "    </tr>\n",
       "    <tr>\n",
       "      <th>23</th>\n",
       "      <td>2000-01-24</td>\n",
       "      <td>0.997307</td>\n",
       "      <td>1.525381</td>\n",
       "      <td>7.425651</td>\n",
       "    </tr>\n",
       "    <tr>\n",
       "      <th>24</th>\n",
       "      <td>2000-01-25</td>\n",
       "      <td>0.999201</td>\n",
       "      <td>1.526279</td>\n",
       "      <td>7.437950</td>\n",
       "    </tr>\n",
       "    <tr>\n",
       "      <th>25</th>\n",
       "      <td>2000-01-26</td>\n",
       "      <td>0.998104</td>\n",
       "      <td>1.525302</td>\n",
       "      <td>7.428985</td>\n",
       "    </tr>\n",
       "    <tr>\n",
       "      <th>26</th>\n",
       "      <td>2000-01-27</td>\n",
       "      <td>1.002406</td>\n",
       "      <td>1.532578</td>\n",
       "      <td>7.461107</td>\n",
       "    </tr>\n",
       "    <tr>\n",
       "      <th>27</th>\n",
       "      <td>2000-01-28</td>\n",
       "      <td>1.015435</td>\n",
       "      <td>1.541227</td>\n",
       "      <td>7.557372</td>\n",
       "    </tr>\n",
       "    <tr>\n",
       "      <th>30</th>\n",
       "      <td>2000-01-31</td>\n",
       "      <td>1.021346</td>\n",
       "      <td>1.575937</td>\n",
       "      <td>7.601266</td>\n",
       "    </tr>\n",
       "    <tr>\n",
       "      <th>31</th>\n",
       "      <td>2000-02-01</td>\n",
       "      <td>1.029866</td>\n",
       "      <td>1.573326</td>\n",
       "      <td>7.665499</td>\n",
       "    </tr>\n",
       "    <tr>\n",
       "      <th>32</th>\n",
       "      <td>2000-02-02</td>\n",
       "      <td>1.029124</td>\n",
       "      <td>1.571781</td>\n",
       "      <td>7.659566</td>\n",
       "    </tr>\n",
       "    <tr>\n",
       "      <th>33</th>\n",
       "      <td>2000-02-03</td>\n",
       "      <td>1.025851</td>\n",
       "      <td>1.577965</td>\n",
       "      <td>7.635412</td>\n",
       "    </tr>\n",
       "    <tr>\n",
       "      <th>34</th>\n",
       "      <td>2000-02-04</td>\n",
       "      <td>1.016777</td>\n",
       "      <td>1.583122</td>\n",
       "      <td>7.568073</td>\n",
       "    </tr>\n",
       "    <tr>\n",
       "      <th>37</th>\n",
       "      <td>2000-02-07</td>\n",
       "      <td>1.023856</td>\n",
       "      <td>1.562506</td>\n",
       "      <td>7.620764</td>\n",
       "    </tr>\n",
       "    <tr>\n",
       "      <th>38</th>\n",
       "      <td>2000-02-08</td>\n",
       "      <td>1.009795</td>\n",
       "      <td>1.578714</td>\n",
       "      <td>7.516207</td>\n",
       "    </tr>\n",
       "    <tr>\n",
       "      <th>39</th>\n",
       "      <td>2000-02-09</td>\n",
       "      <td>1.006644</td>\n",
       "      <td>1.572378</td>\n",
       "      <td>7.493054</td>\n",
       "    </tr>\n",
       "    <tr>\n",
       "      <th>40</th>\n",
       "      <td>2000-02-10</td>\n",
       "      <td>1.013377</td>\n",
       "      <td>1.579550</td>\n",
       "      <td>7.544386</td>\n",
       "    </tr>\n",
       "    <tr>\n",
       "      <th>41</th>\n",
       "      <td>2000-02-11</td>\n",
       "      <td>1.020304</td>\n",
       "      <td>1.584124</td>\n",
       "      <td>7.595960</td>\n",
       "    </tr>\n",
       "    <tr>\n",
       "      <th>...</th>\n",
       "      <td>...</td>\n",
       "      <td>...</td>\n",
       "      <td>...</td>\n",
       "      <td>...</td>\n",
       "    </tr>\n",
       "    <tr>\n",
       "      <th>6863</th>\n",
       "      <td>2018-10-16</td>\n",
       "      <td>0.863036</td>\n",
       "      <td>1.401830</td>\n",
       "      <td>6.439026</td>\n",
       "    </tr>\n",
       "    <tr>\n",
       "      <th>6864</th>\n",
       "      <td>2018-10-17</td>\n",
       "      <td>0.867303</td>\n",
       "      <td>1.404163</td>\n",
       "      <td>6.470425</td>\n",
       "    </tr>\n",
       "    <tr>\n",
       "      <th>6865</th>\n",
       "      <td>2018-10-18</td>\n",
       "      <td>0.869187</td>\n",
       "      <td>1.401043</td>\n",
       "      <td>6.484659</td>\n",
       "    </tr>\n",
       "    <tr>\n",
       "      <th>6866</th>\n",
       "      <td>2018-10-19</td>\n",
       "      <td>0.871840</td>\n",
       "      <td>1.400610</td>\n",
       "      <td>6.504446</td>\n",
       "    </tr>\n",
       "    <tr>\n",
       "      <th>6869</th>\n",
       "      <td>2018-10-22</td>\n",
       "      <td>0.870019</td>\n",
       "      <td>1.408126</td>\n",
       "      <td>6.490604</td>\n",
       "    </tr>\n",
       "    <tr>\n",
       "      <th>6870</th>\n",
       "      <td>2018-10-23</td>\n",
       "      <td>0.871232</td>\n",
       "      <td>1.415142</td>\n",
       "      <td>6.499652</td>\n",
       "    </tr>\n",
       "    <tr>\n",
       "      <th>6871</th>\n",
       "      <td>2018-10-24</td>\n",
       "      <td>0.878040</td>\n",
       "      <td>1.410747</td>\n",
       "      <td>6.550531</td>\n",
       "    </tr>\n",
       "    <tr>\n",
       "      <th>6872</th>\n",
       "      <td>2018-10-25</td>\n",
       "      <td>0.875964</td>\n",
       "      <td>1.409863</td>\n",
       "      <td>6.535564</td>\n",
       "    </tr>\n",
       "    <tr>\n",
       "      <th>6873</th>\n",
       "      <td>2018-10-26</td>\n",
       "      <td>0.881446</td>\n",
       "      <td>1.422829</td>\n",
       "      <td>6.576201</td>\n",
       "    </tr>\n",
       "    <tr>\n",
       "      <th>6876</th>\n",
       "      <td>2018-10-29</td>\n",
       "      <td>0.878657</td>\n",
       "      <td>1.411212</td>\n",
       "      <td>6.556014</td>\n",
       "    </tr>\n",
       "    <tr>\n",
       "      <th>6877</th>\n",
       "      <td>2018-10-30</td>\n",
       "      <td>0.879353</td>\n",
       "      <td>1.409163</td>\n",
       "      <td>6.561203</td>\n",
       "    </tr>\n",
       "    <tr>\n",
       "      <th>6878</th>\n",
       "      <td>2018-10-31</td>\n",
       "      <td>0.883548</td>\n",
       "      <td>1.411203</td>\n",
       "      <td>6.592508</td>\n",
       "    </tr>\n",
       "    <tr>\n",
       "      <th>6879</th>\n",
       "      <td>2018-11-01</td>\n",
       "      <td>0.877732</td>\n",
       "      <td>1.391820</td>\n",
       "      <td>6.548231</td>\n",
       "    </tr>\n",
       "    <tr>\n",
       "      <th>6880</th>\n",
       "      <td>2018-11-02</td>\n",
       "      <td>0.875887</td>\n",
       "      <td>1.387405</td>\n",
       "      <td>6.534379</td>\n",
       "    </tr>\n",
       "    <tr>\n",
       "      <th>6883</th>\n",
       "      <td>2018-11-05</td>\n",
       "      <td>0.879507</td>\n",
       "      <td>1.389886</td>\n",
       "      <td>6.560774</td>\n",
       "    </tr>\n",
       "    <tr>\n",
       "      <th>6884</th>\n",
       "      <td>2018-11-06</td>\n",
       "      <td>0.875044</td>\n",
       "      <td>1.381607</td>\n",
       "      <td>6.527214</td>\n",
       "    </tr>\n",
       "    <tr>\n",
       "      <th>6885</th>\n",
       "      <td>2018-11-07</td>\n",
       "      <td>0.870549</td>\n",
       "      <td>1.371115</td>\n",
       "      <td>6.494124</td>\n",
       "    </tr>\n",
       "    <tr>\n",
       "      <th>6886</th>\n",
       "      <td>2018-11-08</td>\n",
       "      <td>0.875350</td>\n",
       "      <td>1.371499</td>\n",
       "      <td>6.529849</td>\n",
       "    </tr>\n",
       "    <tr>\n",
       "      <th>6887</th>\n",
       "      <td>2018-11-09</td>\n",
       "      <td>0.881368</td>\n",
       "      <td>1.380487</td>\n",
       "      <td>6.574476</td>\n",
       "    </tr>\n",
       "    <tr>\n",
       "      <th>6890</th>\n",
       "      <td>2018-11-12</td>\n",
       "      <td>0.887705</td>\n",
       "      <td>1.386862</td>\n",
       "      <td>6.622015</td>\n",
       "    </tr>\n",
       "    <tr>\n",
       "      <th>6891</th>\n",
       "      <td>2018-11-13</td>\n",
       "      <td>0.888021</td>\n",
       "      <td>1.387799</td>\n",
       "      <td>6.625788</td>\n",
       "    </tr>\n",
       "    <tr>\n",
       "      <th>6892</th>\n",
       "      <td>2018-11-14</td>\n",
       "      <td>0.885269</td>\n",
       "      <td>1.386066</td>\n",
       "      <td>6.605967</td>\n",
       "    </tr>\n",
       "    <tr>\n",
       "      <th>6893</th>\n",
       "      <td>2018-11-15</td>\n",
       "      <td>0.884564</td>\n",
       "      <td>1.376736</td>\n",
       "      <td>6.600796</td>\n",
       "    </tr>\n",
       "    <tr>\n",
       "      <th>6894</th>\n",
       "      <td>2018-11-16</td>\n",
       "      <td>0.881368</td>\n",
       "      <td>1.376961</td>\n",
       "      <td>6.576591</td>\n",
       "    </tr>\n",
       "    <tr>\n",
       "      <th>6897</th>\n",
       "      <td>2018-11-19</td>\n",
       "      <td>0.875120</td>\n",
       "      <td>1.370438</td>\n",
       "      <td>6.530585</td>\n",
       "    </tr>\n",
       "    <tr>\n",
       "      <th>6898</th>\n",
       "      <td>2018-11-20</td>\n",
       "      <td>0.875580</td>\n",
       "      <td>1.375711</td>\n",
       "      <td>6.534191</td>\n",
       "    </tr>\n",
       "    <tr>\n",
       "      <th>6899</th>\n",
       "      <td>2018-11-21</td>\n",
       "      <td>0.876501</td>\n",
       "      <td>1.378298</td>\n",
       "      <td>6.540188</td>\n",
       "    </tr>\n",
       "    <tr>\n",
       "      <th>6900</th>\n",
       "      <td>2018-11-22</td>\n",
       "      <td>0.876962</td>\n",
       "      <td>1.378672</td>\n",
       "      <td>6.543541</td>\n",
       "    </tr>\n",
       "    <tr>\n",
       "      <th>6901</th>\n",
       "      <td>2018-11-23</td>\n",
       "      <td>0.880902</td>\n",
       "      <td>1.383721</td>\n",
       "      <td>6.573115</td>\n",
       "    </tr>\n",
       "    <tr>\n",
       "      <th>6904</th>\n",
       "      <td>2018-11-26</td>\n",
       "      <td>0.880049</td>\n",
       "      <td>1.378509</td>\n",
       "      <td>6.566224</td>\n",
       "    </tr>\n",
       "  </tbody>\n",
       "</table>\n",
       "<p>4838 rows × 4 columns</p>\n",
       "</div>"
      ],
      "text/plain": [
       "       Frequency      Euro  Australian Dollar  Danish Krone\n",
       "2     2000-01-03  0.991080           1.520912      7.374034\n",
       "3     2000-01-04  0.970403           1.521300      7.222610\n",
       "4     2000-01-05  0.964506           1.521316      7.180170\n",
       "5     2000-01-06  0.962649           1.523681      7.166057\n",
       "6     2000-01-07  0.972384           1.530338      7.238040\n",
       "9     2000-01-10  0.977613           1.523805      7.278131\n",
       "10    2000-01-11  0.975039           1.527301      7.258580\n",
       "11    2000-01-12  0.970120           1.518529      7.222837\n",
       "12    2000-01-13  0.973141           1.503503      7.245037\n",
       "13    2000-01-14  0.977995           1.499462      7.281076\n",
       "16    2000-01-17  0.990688           1.507034      7.373489\n",
       "17    2000-01-18  0.990786           1.508174      7.375310\n",
       "18    2000-01-19  0.989609           1.506383      7.366650\n",
       "19    2000-01-20  0.991179           1.504807      7.379423\n",
       "20    2000-01-21  0.990393           1.506883      7.373972\n",
       "23    2000-01-24  0.997307           1.525381      7.425651\n",
       "24    2000-01-25  0.999201           1.526279      7.437950\n",
       "25    2000-01-26  0.998104           1.525302      7.428985\n",
       "26    2000-01-27  1.002406           1.532578      7.461107\n",
       "27    2000-01-28  1.015435           1.541227      7.557372\n",
       "30    2000-01-31  1.021346           1.575937      7.601266\n",
       "31    2000-02-01  1.029866           1.573326      7.665499\n",
       "32    2000-02-02  1.029124           1.571781      7.659566\n",
       "33    2000-02-03  1.025851           1.577965      7.635412\n",
       "34    2000-02-04  1.016777           1.583122      7.568073\n",
       "37    2000-02-07  1.023856           1.562506      7.620764\n",
       "38    2000-02-08  1.009795           1.578714      7.516207\n",
       "39    2000-02-09  1.006644           1.572378      7.493054\n",
       "40    2000-02-10  1.013377           1.579550      7.544386\n",
       "41    2000-02-11  1.020304           1.584124      7.595960\n",
       "...          ...       ...                ...           ...\n",
       "6863  2018-10-16  0.863036           1.401830      6.439026\n",
       "6864  2018-10-17  0.867303           1.404163      6.470425\n",
       "6865  2018-10-18  0.869187           1.401043      6.484659\n",
       "6866  2018-10-19  0.871840           1.400610      6.504446\n",
       "6869  2018-10-22  0.870019           1.408126      6.490604\n",
       "6870  2018-10-23  0.871232           1.415142      6.499652\n",
       "6871  2018-10-24  0.878040           1.410747      6.550531\n",
       "6872  2018-10-25  0.875964           1.409863      6.535564\n",
       "6873  2018-10-26  0.881446           1.422829      6.576201\n",
       "6876  2018-10-29  0.878657           1.411212      6.556014\n",
       "6877  2018-10-30  0.879353           1.409163      6.561203\n",
       "6878  2018-10-31  0.883548           1.411203      6.592508\n",
       "6879  2018-11-01  0.877732           1.391820      6.548231\n",
       "6880  2018-11-02  0.875887           1.387405      6.534379\n",
       "6883  2018-11-05  0.879507           1.389886      6.560774\n",
       "6884  2018-11-06  0.875044           1.381607      6.527214\n",
       "6885  2018-11-07  0.870549           1.371115      6.494124\n",
       "6886  2018-11-08  0.875350           1.371499      6.529849\n",
       "6887  2018-11-09  0.881368           1.380487      6.574476\n",
       "6890  2018-11-12  0.887705           1.386862      6.622015\n",
       "6891  2018-11-13  0.888021           1.387799      6.625788\n",
       "6892  2018-11-14  0.885269           1.386066      6.605967\n",
       "6893  2018-11-15  0.884564           1.376736      6.600796\n",
       "6894  2018-11-16  0.881368           1.376961      6.576591\n",
       "6897  2018-11-19  0.875120           1.370438      6.530585\n",
       "6898  2018-11-20  0.875580           1.375711      6.534191\n",
       "6899  2018-11-21  0.876501           1.378298      6.540188\n",
       "6900  2018-11-22  0.876962           1.378672      6.543541\n",
       "6901  2018-11-23  0.880902           1.383721      6.573115\n",
       "6904  2018-11-26  0.880049           1.378509      6.566224\n",
       "\n",
       "[4838 rows x 4 columns]"
      ]
     },
     "execution_count": 4,
     "metadata": {},
     "output_type": "execute_result"
    }
   ],
   "source": [
    "df =df.dropna()"
   ]
  },
  {
   "cell_type": "code",
   "execution_count": null,
   "metadata": {},
   "outputs": [],
   "source": [
    "fig, ax = plt.subplots(figsize=(10,6))\n",
    "ax.plot(df['Frequency'],df['Euro'], c='darkorange',label=\"Euros\")\n",
    "ax.plot(df['Frequency'],df['Australian Dollar'], c='c',label=\"Australian Dollar\")\n",
    "ax.plot(df['Frequency'],df['Danish Krone'], c='purple',label=\"Danish Krone\")\n",
    "ax.set_xlabel(\"Frequency\")\n",
    "ax.set_ylabel(\"Value in USD\")\n",
    "ax.legend()\n",
    "plt.show()"
   ]
  },
  {
   "cell_type": "markdown",
   "metadata": {},
   "source": [
    "You can see that the EUR/USD and AUD/USD exchange rate are somewhere between rougly 0.5 and 2 between 2000 and 2018, where the Danish Krone is somewhere between roughly 4.5 and 9. Now let's look at the correlations between these time series."
   ]
  },
  {
   "cell_type": "code",
   "execution_count": null,
   "metadata": {},
   "outputs": [],
   "source": [
    "# your code here"
   ]
  },
  {
   "cell_type": "markdown",
   "metadata": {},
   "source": [
    "### What is your conclusion here? You might want to use outside resources to understand what's going on."
   ]
  },
  {
   "cell_type": "markdown",
   "metadata": {},
   "source": []
  },
  {
   "cell_type": "markdown",
   "metadata": {},
   "source": [
    "Next, look at the plots of the differenced series. Use subplots to plot them rather than creating just one plot."
   ]
  },
  {
   "cell_type": "code",
   "execution_count": null,
   "metadata": {},
   "outputs": [],
   "source": [
    "# your code here"
   ]
  },
  {
   "cell_type": "code",
   "execution_count": null,
   "metadata": {},
   "outputs": [],
   "source": [
    "# your code here"
   ]
  },
  {
   "cell_type": "code",
   "execution_count": null,
   "metadata": {},
   "outputs": [],
   "source": [
    "# your code here"
   ]
  },
  {
   "cell_type": "markdown",
   "metadata": {},
   "source": [
    "### Explain what's going on"
   ]
  },
  {
   "cell_type": "markdown",
   "metadata": {},
   "source": []
  },
  {
   "cell_type": "markdown",
   "metadata": {},
   "source": [
    "Next, let's look at the \"lag 1 autocorrelation\" for the EUR/USD exchange rate. Create a \"lag 1 autocorrelation\" series, plot the result, and look at the correlation coefficient."
   ]
  },
  {
   "cell_type": "code",
   "execution_count": null,
   "metadata": {},
   "outputs": [],
   "source": [
    "# your code here"
   ]
  },
  {
   "cell_type": "code",
   "execution_count": null,
   "metadata": {},
   "outputs": [],
   "source": [
    "# your code here"
   ]
  },
  {
   "cell_type": "code",
   "execution_count": null,
   "metadata": {},
   "outputs": [],
   "source": [
    "# your code here"
   ]
  },
  {
   "cell_type": "markdown",
   "metadata": {},
   "source": [
    "Repeat this, but for a \"lag 5 autocorrelation\""
   ]
  },
  {
   "cell_type": "code",
   "execution_count": null,
   "metadata": {},
   "outputs": [],
   "source": [
    "# your code here"
   ]
  },
  {
   "cell_type": "code",
   "execution_count": null,
   "metadata": {},
   "outputs": [],
   "source": [
    "# your code here"
   ]
  },
  {
   "cell_type": "markdown",
   "metadata": {},
   "source": [
    "### What's your conclusion here?"
   ]
  },
  {
   "cell_type": "markdown",
   "metadata": {},
   "source": []
  },
  {
   "cell_type": "markdown",
   "metadata": {},
   "source": [
    "Knowing this, let's plot the ACF now."
   ]
  },
  {
   "cell_type": "code",
   "execution_count": null,
   "metadata": {},
   "outputs": [],
   "source": [
    "# your code here"
   ]
  },
  {
   "cell_type": "markdown",
   "metadata": {},
   "source": [
    "The series is heavily autocorrelated at first, and then there is a decay. This is a typical result for a series that is a random walk, generally you'll see heavy autocorrelations first, slowly tailing off until there is no autocorrelation anymore."
   ]
  },
  {
   "cell_type": "markdown",
   "metadata": {},
   "source": [
    "Next, let's look at the Partial Autocorrelation Function."
   ]
  },
  {
   "cell_type": "code",
   "execution_count": null,
   "metadata": {},
   "outputs": [],
   "source": [
    "# your code here"
   ]
  },
  {
   "cell_type": "markdown",
   "metadata": {},
   "source": [
    "This is interesting! Remember that *Partial Autocorrelation Function* gives the partial correlation of a time series with its own lagged values, controlling for the values of the time series at all shorter lags. When controlling for 1 period lags, the PACF is only very high for one-period lags, and basically 0 for shorter lags. This is again a typical result for Random Walk series!"
   ]
  },
  {
   "cell_type": "markdown",
   "metadata": {},
   "source": [
    "## The Airpassenger Data"
   ]
  },
  {
   "cell_type": "markdown",
   "metadata": {},
   "source": [
    "Look at ACF and PACF for the airpassenger data and describe the result `passengers.csv`. Do this both for the differenced and regular series."
   ]
  },
  {
   "cell_type": "code",
   "execution_count": null,
   "metadata": {},
   "outputs": [],
   "source": [
    "# your code here"
   ]
  },
  {
   "cell_type": "code",
   "execution_count": null,
   "metadata": {},
   "outputs": [],
   "source": [
    "# your code here"
   ]
  },
  {
   "cell_type": "code",
   "execution_count": null,
   "metadata": {},
   "outputs": [],
   "source": [
    "# your code here"
   ]
  },
  {
   "cell_type": "code",
   "execution_count": null,
   "metadata": {},
   "outputs": [],
   "source": [
    "# your code here"
   ]
  },
  {
   "cell_type": "code",
   "execution_count": null,
   "metadata": {},
   "outputs": [],
   "source": [
    "# your code here"
   ]
  },
  {
   "cell_type": "code",
   "execution_count": null,
   "metadata": {},
   "outputs": [],
   "source": [
    "# your code here"
   ]
  },
  {
   "cell_type": "code",
   "execution_count": null,
   "metadata": {},
   "outputs": [],
   "source": [
    "# your code here"
   ]
  },
  {
   "cell_type": "markdown",
   "metadata": {},
   "source": [
    "### Your conclusion here"
   ]
  },
  {
   "cell_type": "markdown",
   "metadata": {},
   "source": []
  },
  {
   "cell_type": "markdown",
   "metadata": {},
   "source": [
    "## The NYSE data"
   ]
  },
  {
   "cell_type": "markdown",
   "metadata": {},
   "source": [
    "Look at correlation and autocorrelation functions for the NYSE data (\"NYSE_monthly.csv\")"
   ]
  },
  {
   "cell_type": "code",
   "execution_count": null,
   "metadata": {},
   "outputs": [],
   "source": [
    "# your code here"
   ]
  },
  {
   "cell_type": "code",
   "execution_count": null,
   "metadata": {},
   "outputs": [],
   "source": [
    "# your code here"
   ]
  },
  {
   "cell_type": "code",
   "execution_count": null,
   "metadata": {},
   "outputs": [],
   "source": [
    "# your code here"
   ]
  },
  {
   "cell_type": "markdown",
   "metadata": {},
   "source": [
    "## Your conclusion here"
   ]
  },
  {
   "cell_type": "markdown",
   "metadata": {},
   "source": []
  },
  {
   "cell_type": "markdown",
   "metadata": {},
   "source": [
    "\n",
    "\n",
    "## Summary\n",
    "\n",
    "Great, you've now been introduced to correlation, the ACF and PACF. Let's move into more serious modeling with autoregressive and moving average models!"
   ]
  }
 ],
 "metadata": {
  "kernelspec": {
   "display_name": "Python 3",
   "language": "python",
   "name": "python3"
  },
  "language_info": {
   "codemirror_mode": {
    "name": "ipython",
    "version": 3
   },
   "file_extension": ".py",
   "mimetype": "text/x-python",
   "name": "python",
   "nbconvert_exporter": "python",
   "pygments_lexer": "ipython3",
   "version": "3.6.6"
  }
 },
 "nbformat": 4,
 "nbformat_minor": 2
}
